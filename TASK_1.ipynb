{
  "nbformat": 4,
  "nbformat_minor": 0,
  "metadata": {
    "colab": {
      "name": "TASK 1.ipynb",
      "provenance": [],
      "collapsed_sections": []
    },
    "kernelspec": {
      "display_name": "Python 3",
      "name": "python3"
    },
    "language_info": {
      "name": "python"
    }
  },
  "cells": [
    {
      "cell_type": "markdown",
      "metadata": {
        "id": "-UQjmdXFOodc"
      },
      "source": [
        "# **THE SPARK FOUNDATION**"
      ]
    },
    {
      "cell_type": "markdown",
      "metadata": {
        "id": "mbfEY9VROfmY"
      },
      "source": [
        "![Capture.PNG](data:image/png;base64,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)"
      ]
    },
    {
      "cell_type": "markdown",
      "metadata": {
        "id": "evQO8dts8Cge"
      },
      "source": [
        "**Importing the libraries required for the task**"
      ]
    },
    {
      "cell_type": "code",
      "metadata": {
        "id": "goccZTzKKk9C"
      },
      "source": [
        "import numpy as np\n",
        "import pandas as pd\n",
        "import matplotlib.pyplot as plt\n",
        "%matplotlib inline\n",
        "import seaborn as sns"
      ],
      "execution_count": 3,
      "outputs": []
    },
    {
      "cell_type": "markdown",
      "metadata": {
        "id": "pejl6wfG8RUt"
      },
      "source": [
        "**Reading data from the url provided**"
      ]
    },
    {
      "cell_type": "code",
      "metadata": {
        "colab": {
          "base_uri": "https://localhost:8080/",
          "height": 357
        },
        "id": "QxTdpOoJ8Yi9",
        "outputId": "305c37e1-306f-4953-d0ad-b9a6c11a2485"
      },
      "source": [
        "url=\"http://bit.ly/w-data\"\n",
        "data=pd.read_csv(url)\n",
        "data.head(10)"
      ],
      "execution_count": 4,
      "outputs": [
        {
          "output_type": "execute_result",
          "data": {
            "text/html": [
              "<div>\n",
              "<style scoped>\n",
              "    .dataframe tbody tr th:only-of-type {\n",
              "        vertical-align: middle;\n",
              "    }\n",
              "\n",
              "    .dataframe tbody tr th {\n",
              "        vertical-align: top;\n",
              "    }\n",
              "\n",
              "    .dataframe thead th {\n",
              "        text-align: right;\n",
              "    }\n",
              "</style>\n",
              "<table border=\"1\" class=\"dataframe\">\n",
              "  <thead>\n",
              "    <tr style=\"text-align: right;\">\n",
              "      <th></th>\n",
              "      <th>Hours</th>\n",
              "      <th>Scores</th>\n",
              "    </tr>\n",
              "  </thead>\n",
              "  <tbody>\n",
              "    <tr>\n",
              "      <th>0</th>\n",
              "      <td>2.5</td>\n",
              "      <td>21</td>\n",
              "    </tr>\n",
              "    <tr>\n",
              "      <th>1</th>\n",
              "      <td>5.1</td>\n",
              "      <td>47</td>\n",
              "    </tr>\n",
              "    <tr>\n",
              "      <th>2</th>\n",
              "      <td>3.2</td>\n",
              "      <td>27</td>\n",
              "    </tr>\n",
              "    <tr>\n",
              "      <th>3</th>\n",
              "      <td>8.5</td>\n",
              "      <td>75</td>\n",
              "    </tr>\n",
              "    <tr>\n",
              "      <th>4</th>\n",
              "      <td>3.5</td>\n",
              "      <td>30</td>\n",
              "    </tr>\n",
              "    <tr>\n",
              "      <th>5</th>\n",
              "      <td>1.5</td>\n",
              "      <td>20</td>\n",
              "    </tr>\n",
              "    <tr>\n",
              "      <th>6</th>\n",
              "      <td>9.2</td>\n",
              "      <td>88</td>\n",
              "    </tr>\n",
              "    <tr>\n",
              "      <th>7</th>\n",
              "      <td>5.5</td>\n",
              "      <td>60</td>\n",
              "    </tr>\n",
              "    <tr>\n",
              "      <th>8</th>\n",
              "      <td>8.3</td>\n",
              "      <td>81</td>\n",
              "    </tr>\n",
              "    <tr>\n",
              "      <th>9</th>\n",
              "      <td>2.7</td>\n",
              "      <td>25</td>\n",
              "    </tr>\n",
              "  </tbody>\n",
              "</table>\n",
              "</div>"
            ],
            "text/plain": [
              "   Hours  Scores\n",
              "0    2.5      21\n",
              "1    5.1      47\n",
              "2    3.2      27\n",
              "3    8.5      75\n",
              "4    3.5      30\n",
              "5    1.5      20\n",
              "6    9.2      88\n",
              "7    5.5      60\n",
              "8    8.3      81\n",
              "9    2.7      25"
            ]
          },
          "metadata": {},
          "execution_count": 4
        }
      ]
    },
    {
      "cell_type": "code",
      "metadata": {
        "colab": {
          "base_uri": "https://localhost:8080/"
        },
        "id": "Yae32N4bQIz1",
        "outputId": "0230cece-dfed-4b88-f033-1dd5e51d5d59"
      },
      "source": [
        "data.info()"
      ],
      "execution_count": 5,
      "outputs": [
        {
          "output_type": "stream",
          "name": "stdout",
          "text": [
            "<class 'pandas.core.frame.DataFrame'>\n",
            "RangeIndex: 25 entries, 0 to 24\n",
            "Data columns (total 2 columns):\n",
            " #   Column  Non-Null Count  Dtype  \n",
            "---  ------  --------------  -----  \n",
            " 0   Hours   25 non-null     float64\n",
            " 1   Scores  25 non-null     int64  \n",
            "dtypes: float64(1), int64(1)\n",
            "memory usage: 528.0 bytes\n"
          ]
        }
      ]
    },
    {
      "cell_type": "code",
      "metadata": {
        "colab": {
          "base_uri": "https://localhost:8080/",
          "height": 295
        },
        "id": "dFpdGeJSwCJe",
        "outputId": "5f4390ff-54ff-42a0-c242-72cfcbcf4a09"
      },
      "source": [
        "data.describe()"
      ],
      "execution_count": 6,
      "outputs": [
        {
          "output_type": "execute_result",
          "data": {
            "text/html": [
              "<div>\n",
              "<style scoped>\n",
              "    .dataframe tbody tr th:only-of-type {\n",
              "        vertical-align: middle;\n",
              "    }\n",
              "\n",
              "    .dataframe tbody tr th {\n",
              "        vertical-align: top;\n",
              "    }\n",
              "\n",
              "    .dataframe thead th {\n",
              "        text-align: right;\n",
              "    }\n",
              "</style>\n",
              "<table border=\"1\" class=\"dataframe\">\n",
              "  <thead>\n",
              "    <tr style=\"text-align: right;\">\n",
              "      <th></th>\n",
              "      <th>Hours</th>\n",
              "      <th>Scores</th>\n",
              "    </tr>\n",
              "  </thead>\n",
              "  <tbody>\n",
              "    <tr>\n",
              "      <th>count</th>\n",
              "      <td>25.000000</td>\n",
              "      <td>25.000000</td>\n",
              "    </tr>\n",
              "    <tr>\n",
              "      <th>mean</th>\n",
              "      <td>5.012000</td>\n",
              "      <td>51.480000</td>\n",
              "    </tr>\n",
              "    <tr>\n",
              "      <th>std</th>\n",
              "      <td>2.525094</td>\n",
              "      <td>25.286887</td>\n",
              "    </tr>\n",
              "    <tr>\n",
              "      <th>min</th>\n",
              "      <td>1.100000</td>\n",
              "      <td>17.000000</td>\n",
              "    </tr>\n",
              "    <tr>\n",
              "      <th>25%</th>\n",
              "      <td>2.700000</td>\n",
              "      <td>30.000000</td>\n",
              "    </tr>\n",
              "    <tr>\n",
              "      <th>50%</th>\n",
              "      <td>4.800000</td>\n",
              "      <td>47.000000</td>\n",
              "    </tr>\n",
              "    <tr>\n",
              "      <th>75%</th>\n",
              "      <td>7.400000</td>\n",
              "      <td>75.000000</td>\n",
              "    </tr>\n",
              "    <tr>\n",
              "      <th>max</th>\n",
              "      <td>9.200000</td>\n",
              "      <td>95.000000</td>\n",
              "    </tr>\n",
              "  </tbody>\n",
              "</table>\n",
              "</div>"
            ],
            "text/plain": [
              "           Hours     Scores\n",
              "count  25.000000  25.000000\n",
              "mean    5.012000  51.480000\n",
              "std     2.525094  25.286887\n",
              "min     1.100000  17.000000\n",
              "25%     2.700000  30.000000\n",
              "50%     4.800000  47.000000\n",
              "75%     7.400000  75.000000\n",
              "max     9.200000  95.000000"
            ]
          },
          "metadata": {},
          "execution_count": 6
        }
      ]
    },
    {
      "cell_type": "markdown",
      "metadata": {
        "id": "_BKT39fY83Rx"
      },
      "source": [
        "**Visualizing to find whenther their is any realtion between the data**"
      ]
    },
    {
      "cell_type": "code",
      "metadata": {
        "colab": {
          "base_uri": "https://localhost:8080/",
          "height": 295
        },
        "id": "K4uOG0VH8_7_",
        "outputId": "900f3568-27f5-44b7-abb3-8afebe06c4b1"
      },
      "source": [
        "plt.scatter(data.Hours, data.Scores ,cmap='virdis') \n",
        "plt.legend(labels=('Scores'),loc='upper left')\n",
        "plt.grid(color='k',ls='solid',lw=0.75) #here ls measn line style  n lw mean line width\n",
        "plt.title(\"Students study hour percentage relation\")\n",
        "plt.xlabel('Hours')\n",
        "plt.ylabel('Percentage Scores')\n",
        "plt.colorbar()\n",
        "plt.show()"
      ],
      "execution_count": 7,
      "outputs": [
        {
          "output_type": "display_data",
          "data": {
            "image/png": "[encoded data removed]",
            "text/plain": [
              "<Figure size 432x288 with 2 Axes>"
            ]
          },
          "metadata": {
            "needs_background": "light"
          }
        }
      ]
    },
    {
      "cell_type": "markdown",
      "metadata": {
        "id": "Wg94P3rwCMNG"
      },
      "source": [
        "**From the graph we can see positive linear realtion between number of hours studied and the percentage**"
      ]
    },
    {
      "cell_type": "markdown",
      "metadata": {
        "id": "YXdX6Dj1CufB"
      },
      "source": [
        "**Data preprocessing**\n",
        "\n",
        "1.   Divide the data into attributes(inputs) and labels(outputs)\n",
        "\n",
        "\n",
        "*We need to divide the dataset into attrobutes because X is what your model uses to make a prediction, y is the right answer you want it to give*"
      ]
    },
    {
      "cell_type": "code",
      "metadata": {
        "colab": {
          "base_uri": "https://localhost:8080/"
        },
        "id": "JRmYQWNVDQUC",
        "outputId": "0fddfa75-1bfc-4201-99e9-9a8d40b03ebf"
      },
      "source": [
        "X= data.iloc[:, :-1].values\n",
        "y= data.iloc[:, 1].values\n",
        "print(\"Attributes:\")\n",
        "print(X)\n",
        "print(\"\\nLables:\")\n",
        "print(y)"
      ],
      "execution_count": 8,
      "outputs": [
        {
          "output_type": "stream",
          "name": "stdout",
          "text": [
            "Attributes:\n",
            "[[2.5]\n",
            " [5.1]\n",
            " [3.2]\n",
            " [8.5]\n",
            " [3.5]\n",
            " [1.5]\n",
            " [9.2]\n",
            " [5.5]\n",
            " [8.3]\n",
            " [2.7]\n",
            " [7.7]\n",
            " [5.9]\n",
            " [4.5]\n",
            " [3.3]\n",
            " [1.1]\n",
            " [8.9]\n",
            " [2.5]\n",
            " [1.9]\n",
            " [6.1]\n",
            " [7.4]\n",
            " [2.7]\n",
            " [4.8]\n",
            " [3.8]\n",
            " [6.9]\n",
            " [7.8]]\n",
            "\n",
            "Lables:\n",
            "[21 47 27 75 30 20 88 60 81 25 85 62 41 42 17 95 30 24 67 69 30 54 35 76\n",
            " 86]\n"
          ]
        }
      ]
    },
    {
      "cell_type": "markdown",
      "metadata": {
        "id": "JCVTEozME-LU"
      },
      "source": [
        "   **Train test split for the datset** \n",
        "\n",
        "\n",
        "\n",
        "1.  Its **a technique for evaluating the performance of a machine learning algorithm on new data**.\n",
        "1.   The procedure involves taking a dataset and dividing it into two subsets. The first subset is used to fit the model and is referred to as the **training dataset**. The second subset is not used to train the model; instead, the input element of the dataset is provided to the model, then predictions are made and compared to the expected values. This second dataset is referred to as the **test dataset**.\n",
        "\n",
        "\n",
        "\n"
      ]
    },
    {
      "cell_type": "code",
      "metadata": {
        "id": "udFYso1M4BNw"
      },
      "source": [
        "from sklearn.model_selection import train_test_split  \n",
        "X_train, X_test, y_train, y_test = train_test_split(X, y, test_size=0.2, random_state=0) "
      ],
      "execution_count": 40,
      "outputs": []
    },
    {
      "cell_type": "markdown",
      "metadata": {
        "id": "uYPUu4ZFIPKV"
      },
      "source": [
        "**Training your dataset by using algorithms**"
      ]
    },
    {
      "cell_type": "code",
      "metadata": {
        "id": "3KtZFUaQKOoR"
      },
      "source": [
        "def warn(*args, **kwargs):\n",
        "    pass\n",
        "import warnings\n",
        "warnings.warn = warn"
      ],
      "execution_count": 10,
      "outputs": []
    },
    {
      "cell_type": "code",
      "metadata": {
        "colab": {
          "base_uri": "https://localhost:8080/"
        },
        "id": "qddCuaS84fpK",
        "outputId": "c95d5164-33c2-4051-be42-beb3a4b03e47"
      },
      "source": [
        "from sklearn.linear_model import LinearRegression  \n",
        "regressor = LinearRegression()  \n",
        "regressor.fit(X_train, y_train) "
      ],
      "execution_count": 11,
      "outputs": [
        {
          "output_type": "execute_result",
          "data": {
            "text/plain": [
              "LinearRegression(copy_X=True, fit_intercept=True, n_jobs=None, normalize=False)"
            ]
          },
          "metadata": {},
          "execution_count": 11
        }
      ]
    },
    {
      "cell_type": "markdown",
      "metadata": {
        "id": "pmpLxwmfKVHV"
      },
      "source": [
        "**Plotting the line**"
      ]
    },
    {
      "cell_type": "code",
      "metadata": {
        "colab": {
          "base_uri": "https://localhost:8080/",
          "height": 295
        },
        "id": "J61NX2_2-px7",
        "outputId": "101dd352-f722-4aa2-9597-778c98075794"
      },
      "source": [
        "# Plotting the regression line\n",
        "line = regressor.coef_*X+regressor.intercept_\n",
        "\n",
        "# Plotting for the test data\n",
        "plt.title(\"Regression line\")\n",
        "plt.xlabel('Hours')\n",
        "plt.ylabel('Percentage Scores')\n",
        "plt.scatter(X, y,color='m')\n",
        "plt.plot(X, line, color='c');\n",
        "plt.show()"
      ],
      "execution_count": 44,
      "outputs": [
        {
          "output_type": "display_data",
          "data": {
            "image/png": "[encoded data removed]",
            "text/plain": [
              "<Figure size 432x288 with 1 Axes>"
            ]
          },
          "metadata": {
            "needs_background": "light"
          }
        }
      ]
    },
    {
      "cell_type": "markdown",
      "metadata": {
        "id": "YYBAAGrWQdSQ"
      },
      "source": [
        "**Making predictions**"
      ]
    },
    {
      "cell_type": "code",
      "metadata": {
        "colab": {
          "base_uri": "https://localhost:8080/"
        },
        "id": "uFl-TSFEQhSY",
        "outputId": "95704372-6107-4719-e50a-6d9ab6bc109e"
      },
      "source": [
        "print(X_test)\n",
        "y_pred=regressor.predict(X_test)"
      ],
      "execution_count": 13,
      "outputs": [
        {
          "output_type": "stream",
          "name": "stdout",
          "text": [
            "[[1.5]\n",
            " [3.2]\n",
            " [7.4]\n",
            " [2.5]\n",
            " [5.9]]\n"
          ]
        }
      ]
    },
    {
      "cell_type": "markdown",
      "metadata": {
        "id": "6Nd_9mC5QsdC"
      },
      "source": [
        "***Although we made predicitons but we need to comapre it with actual dataset***"
      ]
    },
    {
      "cell_type": "code",
      "metadata": {
        "colab": {
          "base_uri": "https://localhost:8080/",
          "height": 203
        },
        "id": "SqyzKQ41Qzfg",
        "outputId": "8e4936c5-6b58-4ae2-980d-a0c93e6cd399"
      },
      "source": [
        "y_pred=regressor.predict(X_test)\n",
        "df= pd.DataFrame({'Actual':y_test, 'Predicted':y_pred})\n",
        "df"
      ],
      "execution_count": 54,
      "outputs": [
        {
          "output_type": "execute_result",
          "data": {
            "text/html": [
              "<div>\n",
              "<style scoped>\n",
              "    .dataframe tbody tr th:only-of-type {\n",
              "        vertical-align: middle;\n",
              "    }\n",
              "\n",
              "    .dataframe tbody tr th {\n",
              "        vertical-align: top;\n",
              "    }\n",
              "\n",
              "    .dataframe thead th {\n",
              "        text-align: right;\n",
              "    }\n",
              "</style>\n",
              "<table border=\"1\" class=\"dataframe\">\n",
              "  <thead>\n",
              "    <tr style=\"text-align: right;\">\n",
              "      <th></th>\n",
              "      <th>Actual</th>\n",
              "      <th>Predicted</th>\n",
              "    </tr>\n",
              "  </thead>\n",
              "  <tbody>\n",
              "    <tr>\n",
              "      <th>0</th>\n",
              "      <td>20</td>\n",
              "      <td>16.884145</td>\n",
              "    </tr>\n",
              "    <tr>\n",
              "      <th>1</th>\n",
              "      <td>27</td>\n",
              "      <td>33.732261</td>\n",
              "    </tr>\n",
              "    <tr>\n",
              "      <th>2</th>\n",
              "      <td>69</td>\n",
              "      <td>75.357018</td>\n",
              "    </tr>\n",
              "    <tr>\n",
              "      <th>3</th>\n",
              "      <td>30</td>\n",
              "      <td>26.794801</td>\n",
              "    </tr>\n",
              "    <tr>\n",
              "      <th>4</th>\n",
              "      <td>62</td>\n",
              "      <td>60.491033</td>\n",
              "    </tr>\n",
              "  </tbody>\n",
              "</table>\n",
              "</div>"
            ],
            "text/plain": [
              "   Actual  Predicted\n",
              "0      20  16.884145\n",
              "1      27  33.732261\n",
              "2      69  75.357018\n",
              "3      30  26.794801\n",
              "4      62  60.491033"
            ]
          },
          "metadata": {},
          "execution_count": 54
        }
      ]
    },
    {
      "cell_type": "markdown",
      "metadata": {
        "id": "Mp6o8D4Ft_xa"
      },
      "source": [
        "**PLotting the line for actual vs predicted values**"
      ]
    },
    {
      "cell_type": "code",
      "metadata": {
        "colab": {
          "base_uri": "https://localhost:8080/",
          "height": 295
        },
        "id": "1elWH1AFuFvj",
        "outputId": "2f02b546-a956-4adf-8f6b-2aaef1c28c5a"
      },
      "source": [
        "plt.title(\"Regression line and polting for actual and predicted value\")\n",
        "plt.xlabel('Hours')\n",
        "plt.ylabel('Percentage Scores')\n",
        "plt.scatter(X_test,y_test,color='purple')\n",
        "plt.scatter(X_test,y_pred,color='gold')\n",
        "plt.plot(X_train,regressor.predict(X_train),color='aqua')\n",
        "plt.show()"
      ],
      "execution_count": 60,
      "outputs": [
        {
          "output_type": "display_data",
          "data": {
            "image/png": "[encoded data removed]",
            "text/plain": [
              "<Figure size 432x288 with 1 Axes>"
            ]
          },
          "metadata": {
            "needs_background": "light"
          }
        }
      ]
    },
    {
      "cell_type": "markdown",
      "metadata": {
        "id": "_Oxk7pbMpXYZ"
      },
      "source": [
        "**Predict the percentage of an student based on the no of study hours**"
      ]
    },
    {
      "cell_type": "code",
      "metadata": {
        "colab": {
          "base_uri": "https://localhost:8080/"
        },
        "id": "21uAxBIMpW3y",
        "outputId": "75e8ff09-96a6-41d3-c3bd-baa2f974cdb4"
      },
      "source": [
        "hrs=[9.25]\n",
        "pred = regressor.predict([hrs])\n",
        "print(\"No of Hours = {}\".format(hrs))\n",
        "print(\"Predicted Score = {}\".format(pred[0]))"
      ],
      "execution_count": 17,
      "outputs": [
        {
          "output_type": "stream",
          "name": "stdout",
          "text": [
            "No of Hours = [9.25]\n",
            "Predicted Score = 93.69173248737539\n"
          ]
        }
      ]
    },
    {
      "cell_type": "markdown",
      "metadata": {
        "id": "0AAsPVA_6KmK"
      },
      "source": [
        "### **Evaluating the model**\n",
        "\n",
        "The final step is to evaluate the performance of algorithm. This step is important to compare how well different algorithms perform on a particular dataset."
      ]
    },
    {
      "cell_type": "code",
      "metadata": {
        "id": "Q11gKrG9RSrE"
      },
      "source": [
        "from sklearn import metrics"
      ],
      "execution_count": 18,
      "outputs": []
    },
    {
      "cell_type": "code",
      "metadata": {
        "colab": {
          "base_uri": "https://localhost:8080/"
        },
        "id": "-oWXm1MIgKKj",
        "outputId": "de9ad76c-6c31-4531-8ac8-e32f26f285a8"
      },
      "source": [
        "print('Mean Absolute Error:', metrics.mean_absolute_error(y_test, y_pred)) \n",
        "print('Mean Square error:', metrics.mean_squared_error(y_test, y_pred))"
      ],
      "execution_count": 53,
      "outputs": [
        {
          "output_type": "stream",
          "name": "stdout",
          "text": [
            "Mean Absolute Error: 4.183859899002982\n",
            "Mean Square error: 21.598769307217456\n"
          ]
        }
      ]
    },
    {
      "cell_type": "markdown",
      "metadata": {
        "id": "K_BcgLqFjQdw"
      },
      "source": [
        "**Here we can see that we got mean absolute error of 4.18**"
      ]
    }
  ]
}